{
 "cells": [
  {
   "cell_type": "code",
   "execution_count": null,
   "metadata": {},
   "outputs": [],
   "source": [
    "STEP 1: Importing the Libraries"
   ]
  },
  {
   "cell_type": "code",
   "execution_count": 1,
   "metadata": {},
   "outputs": [],
   "source": [
    "from tensorflow.keras.models import Sequential"
   ]
  },
  {
   "cell_type": "code",
   "execution_count": 2,
   "metadata": {},
   "outputs": [],
   "source": [
    "from tensorflow.keras.models import Sequential #used to initialize model\n",
    "from tensorflow.keras.layers import Dense #used to add layers\n",
    "from tensorflow.keras.layers import Conv2D#convolution Layer\n",
    "from tensorflow.keras.layers import MaxPool2D #max pooling\n",
    "from tensorflow.keras.layers import Flatten "
   ]
  },
  {
   "cell_type": "code",
   "execution_count": null,
   "metadata": {},
   "outputs": [],
   "source": [
    "STEP 2: Initializing the Model"
   ]
  },
  {
   "cell_type": "code",
   "execution_count": 3,
   "metadata": {},
   "outputs": [],
   "source": [
    "model= Sequential()"
   ]
  },
  {
   "cell_type": "code",
   "execution_count": null,
   "metadata": {},
   "outputs": [],
   "source": [
    "STEP 3:Adding Convolution Layer"
   ]
  },
  {
   "cell_type": "code",
   "execution_count": 4,
   "metadata": {},
   "outputs": [],
   "source": [
    "model.add(Conv2D(32,3,3,input_shape=(64,64,3),activation='relu'))"
   ]
  },
  {
   "cell_type": "code",
   "execution_count": null,
   "metadata": {},
   "outputs": [],
   "source": [
    "STEP 4: Adding MaxPooling Layer"
   ]
  },
  {
   "cell_type": "code",
   "execution_count": 5,
   "metadata": {},
   "outputs": [],
   "source": [
    "model.add(MaxPool2D(pool_size=(2,2)))"
   ]
  },
  {
   "cell_type": "code",
   "execution_count": null,
   "metadata": {},
   "outputs": [],
   "source": [
    "STEP 5: Adding Flatten Layer"
   ]
  },
  {
   "cell_type": "code",
   "execution_count": 6,
   "metadata": {},
   "outputs": [],
   "source": [
    "model.add(Flatten())#converts ndim to 1 dim"
   ]
  },
  {
   "cell_type": "code",
   "execution_count": 7,
   "metadata": {},
   "outputs": [
    {
     "name": "stdout",
     "output_type": "stream",
     "text": [
      "Model: \"sequential\"\n",
      "_________________________________________________________________\n",
      "Layer (type)                 Output Shape              Param #   \n",
      "=================================================================\n",
      "conv2d (Conv2D)              (None, 21, 21, 32)        896       \n",
      "_________________________________________________________________\n",
      "max_pooling2d (MaxPooling2D) (None, 10, 10, 32)        0         \n",
      "_________________________________________________________________\n",
      "flatten (Flatten)            (None, 3200)              0         \n",
      "=================================================================\n",
      "Total params: 896\n",
      "Trainable params: 896\n",
      "Non-trainable params: 0\n",
      "_________________________________________________________________\n"
     ]
    }
   ],
   "source": [
    "model.summary()"
   ]
  },
  {
   "cell_type": "code",
   "execution_count": null,
   "metadata": {},
   "outputs": [],
   "source": [
    "STEP 6: Adding ANN Layers"
   ]
  },
  {
   "cell_type": "code",
   "execution_count": 8,
   "metadata": {},
   "outputs": [],
   "source": [
    "model.add(Dense(units=128,activation='relu',kernel_initializer='random_uniform'))"
   ]
  },
  {
   "cell_type": "code",
   "execution_count": 9,
   "metadata": {},
   "outputs": [],
   "source": [
    "model.add(Dense(units=1,activation='sigmoid',kernel_initializer='random_uniform'))"
   ]
  },
  {
   "cell_type": "code",
   "execution_count": 10,
   "metadata": {},
   "outputs": [
    {
     "name": "stdout",
     "output_type": "stream",
     "text": [
      "Model: \"sequential\"\n",
      "_________________________________________________________________\n",
      "Layer (type)                 Output Shape              Param #   \n",
      "=================================================================\n",
      "conv2d (Conv2D)              (None, 21, 21, 32)        896       \n",
      "_________________________________________________________________\n",
      "max_pooling2d (MaxPooling2D) (None, 10, 10, 32)        0         \n",
      "_________________________________________________________________\n",
      "flatten (Flatten)            (None, 3200)              0         \n",
      "_________________________________________________________________\n",
      "dense (Dense)                (None, 128)               409728    \n",
      "_________________________________________________________________\n",
      "dense_1 (Dense)              (None, 1)                 129       \n",
      "=================================================================\n",
      "Total params: 410,753\n",
      "Trainable params: 410,753\n",
      "Non-trainable params: 0\n",
      "_________________________________________________________________\n"
     ]
    }
   ],
   "source": [
    "model.summary()"
   ]
  },
  {
   "cell_type": "code",
   "execution_count": null,
   "metadata": {},
   "outputs": [],
   "source": [
    "STEP 7: Compiling"
   ]
  },
  {
   "cell_type": "code",
   "execution_count": 11,
   "metadata": {},
   "outputs": [],
   "source": [
    "model.compile(optimizer='adam',loss='binary_crossentropy',matrics=['accuracy'])"
   ]
  },
  {
   "cell_type": "code",
   "execution_count": null,
   "metadata": {},
   "outputs": [],
   "source": [
    "STEP 8: Loading of Dataset"
   ]
  },
  {
   "cell_type": "code",
   "execution_count": 12,
   "metadata": {},
   "outputs": [
    {
     "name": "stderr",
     "output_type": "stream",
     "text": [
      "Using TensorFlow backend.\n"
     ]
    }
   ],
   "source": [
    "from keras.preprocessing.image import ImageDataGenerator"
   ]
  },
  {
   "cell_type": "code",
   "execution_count": 13,
   "metadata": {},
   "outputs": [],
   "source": [
    "train_datagen= ImageDataGenerator(rescale=1./255,shear_range=0.2,horizontal_flip=True,zoom_range=0.2)\n",
    "test_datagen= ImageDataGenerator(rescale=1./255)"
   ]
  },
  {
   "cell_type": "code",
   "execution_count": 14,
   "metadata": {},
   "outputs": [
    {
     "name": "stdout",
     "output_type": "stream",
     "text": [
      "Found 458 images belonging to 2 classes.\n",
      "Found 40 images belonging to 2 classes.\n"
     ]
    }
   ],
   "source": [
    "x_train=train_datagen.flow_from_directory(r'Lung-Cancer-Dataset\\train_set',target_size=(64,64),batch_size=32,class_mode='binary')\n",
    "x_test=train_datagen.flow_from_directory(r'Lung-Cancer-Dataset\\test_set',target_size=(64,64),batch_size=32,class_mode='binary')\n",
    "#more than 2 categories class_mode='categorical'"
   ]
  },
  {
   "cell_type": "code",
   "execution_count": 15,
   "metadata": {},
   "outputs": [
    {
     "name": "stdout",
     "output_type": "stream",
     "text": [
      "{'cancer': 0, 'without-cancer': 1}\n"
     ]
    }
   ],
   "source": [
    "print(x_train.class_indices)"
   ]
  },
  {
   "cell_type": "code",
   "execution_count": 16,
   "metadata": {},
   "outputs": [
    {
     "name": "stdout",
     "output_type": "stream",
     "text": [
      "Epoch 1/50\n",
      "458/458 [==============================] - 171s 373ms/step - loss: 0.1378 - val_loss: 0.0708\n",
      "Epoch 2/50\n",
      "458/458 [==============================] - 192s 419ms/step - loss: 0.0786 - val_loss: 0.1998\n",
      "Epoch 3/50\n",
      "458/458 [==============================] - 731s 2s/step - loss: 0.0620 - val_loss: 0.0991\n",
      "Epoch 4/50\n",
      "458/458 [==============================] - 164s 357ms/step - loss: 0.0518 - val_loss: 0.0438\n",
      "Epoch 5/50\n",
      "458/458 [==============================] - 165s 360ms/step - loss: 0.0443 - val_loss: 0.1888\n",
      "Epoch 6/50\n",
      "458/458 [==============================] - 164s 357ms/step - loss: 0.0323 - val_loss: 0.1167\n",
      "Epoch 7/50\n",
      "458/458 [==============================] - 162s 354ms/step - loss: 0.0286 - val_loss: 0.2180\n",
      "Epoch 8/50\n",
      "458/458 [==============================] - 166s 363ms/step - loss: 0.0209 - val_loss: 0.2267\n",
      "Epoch 9/50\n",
      "458/458 [==============================] - 164s 358ms/step - loss: 0.0163 - val_loss: 0.2817\n",
      "Epoch 10/50\n",
      "458/458 [==============================] - 165s 360ms/step - loss: 0.0195 - val_loss: 0.2535\n",
      "Epoch 11/50\n",
      "458/458 [==============================] - 163s 356ms/step - loss: 0.0119 - val_loss: 0.1218\n",
      "Epoch 12/50\n",
      "458/458 [==============================] - 165s 361ms/step - loss: 0.0091 - val_loss: 0.2115\n",
      "Epoch 13/50\n",
      "458/458 [==============================] - 166s 363ms/step - loss: 0.0089 - val_loss: 0.0944\n",
      "Epoch 14/50\n",
      "458/458 [==============================] - 168s 366ms/step - loss: 0.0066 - val_loss: 0.1516\n",
      "Epoch 15/50\n",
      "458/458 [==============================] - 159s 348ms/step - loss: 0.0036 - val_loss: 0.0884\n",
      "Epoch 16/50\n",
      "458/458 [==============================] - 164s 358ms/step - loss: 0.0125 - val_loss: 0.0843\n",
      "Epoch 17/50\n",
      "458/458 [==============================] - 161s 351ms/step - loss: 0.0049 - val_loss: 0.0784\n",
      "Epoch 18/50\n",
      "458/458 [==============================] - 158s 345ms/step - loss: 0.0060 - val_loss: 0.2045\n",
      "Epoch 19/50\n",
      "458/458 [==============================] - 199s 434ms/step - loss: 0.0041 - val_loss: 0.1317\n",
      "Epoch 20/50\n",
      "458/458 [==============================] - 184s 402ms/step - loss: 0.0028 - val_loss: 0.1024\n",
      "Epoch 21/50\n",
      "458/458 [==============================] - 190s 414ms/step - loss: 4.1596e-04 - val_loss: 0.0780\n",
      "Epoch 22/50\n",
      "458/458 [==============================] - 191s 418ms/step - loss: 0.0101 - val_loss: 0.1253\n",
      "Epoch 23/50\n",
      "458/458 [==============================] - 207s 452ms/step - loss: 0.0072 - val_loss: 0.1330\n",
      "Epoch 24/50\n",
      "458/458 [==============================] - 201s 438ms/step - loss: 5.6225e-04 - val_loss: 0.1891\n",
      "Epoch 25/50\n",
      "458/458 [==============================] - 204s 446ms/step - loss: 0.0024 - val_loss: 0.2419\n",
      "Epoch 26/50\n",
      "458/458 [==============================] - 196s 428ms/step - loss: 0.0035 - val_loss: 0.1337\n",
      "Epoch 27/50\n",
      "458/458 [==============================] - 191s 417ms/step - loss: 0.0019 - val_loss: 0.1069\n",
      "Epoch 28/50\n",
      "458/458 [==============================] - 196s 428ms/step - loss: 4.3406e-04 - val_loss: 0.0925\n",
      "Epoch 29/50\n",
      "458/458 [==============================] - 200s 436ms/step - loss: 0.0118 - val_loss: 0.1574\n",
      "Epoch 30/50\n",
      "458/458 [==============================] - 200s 436ms/step - loss: 0.0055 - val_loss: 0.0511\n",
      "Epoch 31/50\n",
      "458/458 [==============================] - 196s 427ms/step - loss: 6.1847e-04 - val_loss: 0.0817\n",
      "Epoch 32/50\n",
      "458/458 [==============================] - 188s 411ms/step - loss: 4.4156e-04 - val_loss: 0.0777\n",
      "Epoch 33/50\n",
      "458/458 [==============================] - 160s 348ms/step - loss: 2.5809e-04 - val_loss: 0.0963\n",
      "Epoch 34/50\n",
      "458/458 [==============================] - 160s 350ms/step - loss: 1.9573e-04 - val_loss: 0.0660\n",
      "Epoch 35/50\n",
      "458/458 [==============================] - 159s 346ms/step - loss: 0.0115 - val_loss: 0.1067\n",
      "Epoch 36/50\n",
      "458/458 [==============================] - 159s 348ms/step - loss: 0.0022 - val_loss: 0.1261\n",
      "Epoch 37/50\n",
      "458/458 [==============================] - 161s 351ms/step - loss: 0.0020 - val_loss: 0.2066\n",
      "Epoch 38/50\n",
      "458/458 [==============================] - 7548s 16s/step - loss: 0.0017 - val_loss: 0.0757\n",
      "Epoch 39/50\n",
      "458/458 [==============================] - 150s 327ms/step - loss: 4.6483e-04 - val_loss: 0.1230\n",
      "Epoch 40/50\n",
      "458/458 [==============================] - 153s 335ms/step - loss: 0.0046 - val_loss: 0.1785\n",
      "Epoch 41/50\n",
      "458/458 [==============================] - 155s 339ms/step - loss: 0.0013 - val_loss: 0.0907\n",
      "Epoch 42/50\n",
      "458/458 [==============================] - 270s 589ms/step - loss: 1.8418e-04 - val_loss: 0.1149\n",
      "Epoch 43/50\n",
      "458/458 [==============================] - 364s 795ms/step - loss: 8.0944e-05 - val_loss: 0.1573\n",
      "Epoch 44/50\n",
      "458/458 [==============================] - 368s 804ms/step - loss: 1.9665e-04 - val_loss: 0.1196\n",
      "Epoch 45/50\n",
      "458/458 [==============================] - 362s 791ms/step - loss: 0.0063 - val_loss: 0.3314\n",
      "Epoch 46/50\n",
      "458/458 [==============================] - 159s 347ms/step - loss: 2.7389e-04 - val_loss: 0.2612\n",
      "Epoch 47/50\n",
      "458/458 [==============================] - 163s 357ms/step - loss: 4.1724e-04 - val_loss: 0.1990\n",
      "Epoch 48/50\n",
      "458/458 [==============================] - 162s 354ms/step - loss: 1.3169e-04 - val_loss: 0.1961\n",
      "Epoch 49/50\n",
      "458/458 [==============================] - 166s 363ms/step - loss: 8.5583e-05 - val_loss: 0.1826\n",
      "Epoch 50/50\n",
      "458/458 [==============================] - 163s 356ms/step - loss: 0.0049 - val_loss: 0.2059\n"
     ]
    },
    {
     "data": {
      "text/plain": [
       "<tensorflow.python.keras.callbacks.History at 0x1d1d80fb408>"
      ]
     },
     "execution_count": 16,
     "metadata": {},
     "output_type": "execute_result"
    }
   ],
   "source": [
    "model.fit_generator(x_train,steps_per_epoch=458,validation_data=x_test,epochs=50,validation_steps=40)\n"
   ]
  },
  {
   "cell_type": "code",
   "execution_count": 19,
   "metadata": {},
   "outputs": [],
   "source": [
    "model.save('testmodel10.h5')"
   ]
  },
  {
   "cell_type": "code",
   "execution_count": null,
   "metadata": {},
   "outputs": [],
   "source": []
  }
 ],
 "metadata": {
  "kernelspec": {
   "display_name": "Python 3",
   "language": "python",
   "name": "python3"
  },
  "language_info": {
   "codemirror_mode": {
    "name": "ipython",
    "version": 3
   },
   "file_extension": ".py",
   "mimetype": "text/x-python",
   "name": "python",
   "nbconvert_exporter": "python",
   "pygments_lexer": "ipython3",
   "version": "3.7.4"
  }
 },
 "nbformat": 4,
 "nbformat_minor": 2
}
